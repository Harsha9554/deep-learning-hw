{
 "cells": [
  {
   "cell_type": "markdown",
   "id": "247a8638-22c8-4811-ae11-df714aa9e95d",
   "metadata": {
    "tags": []
   },
   "source": [
    "# Name: Sai Sriharsha Griddaluru\n",
    "## Email: sgridda@clemson.edu\n",
    "## CUID: C15358926\n"
   ]
  },
  {
   "cell_type": "markdown",
   "id": "0a98eed6-a272-4000-a93c-4f9c92d20a7f",
   "metadata": {
    "tags": []
   },
   "source": [
    "# HW 1: TASK 2: Visualizing the Optimization process"
   ]
  },
  {
   "cell_type": "code",
   "execution_count": 4,
   "id": "a75cf08e-881c-48d3-9242-4200074d90b1",
   "metadata": {
    "tags": []
   },
   "outputs": [],
   "source": [
    "import torch\n",
    "import torch.nn as nn\n",
    "import torch.nn.functional as F\n",
    "from torch.utils.data import DataLoader\n",
    "from torchvision import datasets, transforms\n",
    "\n",
    "import numpy as np\n",
    "import pandas as pd\n",
    "import matplotlib.pyplot as plt\n",
    "%matplotlib inline"
   ]
  },
  {
   "cell_type": "code",
   "execution_count": 5,
   "id": "34091b68-ca20-4c56-947c-07a491c4dbef",
   "metadata": {
    "tags": []
   },
   "outputs": [],
   "source": [
    "def nonlinear_sine_function(X):\n",
    "    return np.sin(4*X)**2 + np.sin(8*X)\n",
    "\n",
    "# generate X values\n",
    "X = torch.linspace(-1,1,200).reshape(-1,1)\n",
    "\n",
    "# calculate the corresponding Y values\n",
    "Y = nonlinear_sine_function(X)"
   ]
  },
  {
   "cell_type": "code",
   "execution_count": 6,
   "id": "254d07c3-f579-48ae-bbbd-4cc6e7aa518d",
   "metadata": {
    "tags": []
   },
   "outputs": [],
   "source": [
    "# calculating number of parameters in the MODEL\n",
    "def calculate_num_of_parameters(model):\n",
    "    val = sum(params.numel() for params in model.parameters() if params.requires_grad)\n",
    "    return val\n",
    "    "
   ]
  },
  {
   "cell_type": "code",
   "execution_count": 8,
   "id": "92ee9a10-85a7-4db3-8e40-a72d09ec005e",
   "metadata": {
    "tags": []
   },
   "outputs": [],
   "source": [
    "class Model(nn.Module):\n",
    "    def __init__(self, in_features=1, h1=4, h2=8, out_features=1):\n",
    "        super().__init__()\n",
    "        self.fc1 = nn.Linear(in_features,h1)    \n",
    "        self.fc2 = nn.Linear(h1, h2)\n",
    "        self.fc3 = nn.Linear(h2, out_features)\n",
    "        \n",
    "        \n",
    "    def forward(self, x):\n",
    "        x = F.relu(self.fc1(x))\n",
    "        x = F.relu(self.fc2(x))\n",
    "        x = self.fc3(x)\n",
    "        return x"
   ]
  },
  {
   "cell_type": "code",
   "execution_count": 9,
   "id": "fcfe2266-ea33-4358-a0a0-0a7ee3d2b6ab",
   "metadata": {
    "tags": []
   },
   "outputs": [
    {
     "name": "stdout",
     "output_type": "stream",
     "text": [
      "Model(\n",
      "  (fc1): Linear(in_features=1, out_features=4, bias=True)\n",
      "  (fc2): Linear(in_features=4, out_features=8, bias=True)\n",
      "  (fc3): Linear(in_features=8, out_features=1, bias=True)\n",
      ")\n",
      "Number of Parameters:\n",
      " 57\n",
      "\n"
     ]
    }
   ],
   "source": [
    "# instantiate the model\n",
    "model = Model()\n",
    "\n",
    "# print the model architecture\n",
    "print(model)\n",
    "\n",
    "# calculate the number of parameters in the model\n",
    "model_params = calculate_num_of_parameters(model)\n",
    "\n",
    "# print the total number of parameters\n",
    "print(f\"Number of Parameters:\\n {model_params}\\n\")\n"
   ]
  },
  {
   "cell_type": "code",
   "execution_count": 16,
   "id": "842f4d46-9dd9-4262-802e-52922937fab9",
   "metadata": {
    "tags": []
   },
   "outputs": [],
   "source": [
    "# Layer connection sizes\n",
    "layer1_connections = 1 * 4\n",
    "layer2_connections = 4 * 8\n",
    "layer3_connections = 8 * 1\n",
    "\n",
    "# Total connections in the model\n",
    "total_model_connections = layer1_connections + layer2_connections + layer3_connections\n"
   ]
  },
  {
   "cell_type": "code",
   "execution_count": 17,
   "id": "291aa662-8848-494a-9883-b9625aa9f373",
   "metadata": {
    "tags": []
   },
   "outputs": [],
   "source": [
    "criterion = nn.CrossEntropyLoss()\n",
    "optimizer = torch.optim.Adam(model.parameters(), lr=0.001)"
   ]
  },
  {
   "cell_type": "code",
   "execution_count": 19,
   "id": "355189aa-e1b8-4e3e-ac70-38ff2f155825",
   "metadata": {
    "tags": []
   },
   "outputs": [],
   "source": [
    "num_iterations = 8\n",
    "num_epochs = 30\n",
    "interval = round(num_epochs / 3)\n",
    "model_losses = []\n",
    "counter = 0\n",
    "\n",
    "layer2_weights_tensor = torch.zeros((num_iterations * interval, layer2_connections))\n",
    "full_model_weights_tensor = torch.zeros((num_iterations * interval, total_model_connections))\n",
    "losses_tensor = torch.zeros((num_iterations * interval, 1))\n",
    "\n",
    "for iteration in range(num_iterations):\n",
    "    model = Model()\n",
    "    criterion = nn.CrossEntropyLoss()\n",
    "    optimizer = torch.optim.Adam(model.parameters(), lr=0.001)\n",
    "\n",
    "    for epoch in range(num_epochs):\n",
    "        y_pred = model(X)\n",
    "        training_loss = criterion(y_pred, Y)\n",
    "        model_losses.append(training_loss)\n",
    "\n",
    "        optimizer.zero_grad()\n",
    "        training_loss.backward()\n",
    "        optimizer.step()\n",
    "\n",
    "        if (epoch + 1) % 3 == 0:\n",
    "            layer1_weights = torch.reshape(torch.flatten(model.fc1.weight), (1, layer1_connections))\n",
    "            layer2_weights = torch.reshape(torch.flatten(model.fc2.weight), (1, layer2_connections))\n",
    "            layer3_weights = torch.reshape(torch.flatten(model.fc3.weight), (1, layer3_connections))\n",
    "\n",
    "            combined_weights = torch.cat((layer2_weights, layer1_weights), dim=1)\n",
    "            full_model_weights = torch.cat((combined_weights, layer3_weights), dim=1)\n",
    "\n",
    "            full_model_weights_tensor[counter] = full_model_weights\n",
    "            layer2_weights_tensor[counter] = layer2_weights\n",
    "            losses_tensor[counter] = training_loss\n",
    "\n",
    "            counter += 1\n"
   ]
  },
  {
   "cell_type": "code",
   "execution_count": 20,
   "id": "41e8b782-34b4-4349-8c8c-6a51b4493624",
   "metadata": {
    "tags": []
   },
   "outputs": [],
   "source": [
    "def perform_pca(input_data, retained_dim):\n",
    "    num_samples, num_features = input_data.shape\n",
    "    feature_means = np.array([np.mean(input_data[:, i]) for i in range(num_features)])\n",
    "    normalized_data = input_data - feature_means\n",
    "\n",
    "    covariance_matrix = np.dot(normalized_data.T, normalized_data)\n",
    "    eigenvalues, eigenvectors = np.linalg.eig(covariance_matrix)\n",
    "    \n",
    "    eigen_pairs = [(np.abs(eigenvalues[i]), eigenvectors[:, i]) for i in range(num_features)]\n",
    "    eigen_pairs.sort(key=lambda x: x[0], reverse=True)\n",
    "    \n",
    "    selected_features = np.array([pair[1] for pair in eigen_pairs[:retained_dim]])\n",
    "    reduced_data = np.dot(normalized_data, selected_features.T)\n",
    "    \n",
    "    return reduced_data\n"
   ]
  },
  {
   "cell_type": "code",
   "execution_count": 23,
   "id": "1cda280d-a791-44f1-83b8-9105f3240e35",
   "metadata": {
    "tags": []
   },
   "outputs": [],
   "source": [
    "layer2_weights = layer2_weights_tensor.detach().cpu().numpy()\n",
    "model_weights = full_model_weights_tensor.detach().cpu().numpy()\n",
    "loss_values = losses_tensor.detach().cpu().numpy()\n",
    "\n",
    "layer2_weights = perform_pca(layer2_weights, 2)\n",
    "model_weights = perform_pca(model_weights, 2)"
   ]
  },
  {
   "cell_type": "code",
   "execution_count": 24,
   "id": "afb71bd5-de58-4460-8662-8f1b0e332961",
   "metadata": {
    "tags": []
   },
   "outputs": [
    {
     "data": {
      "image/png": "[encoded data removed]",
      "text/plain": [
       "<Figure size 640x480 with 1 Axes>"
      ]
     },
     "metadata": {},
     "output_type": "display_data"
    }
   ],
   "source": [
    "color_markers = ['y*', 'b*', 'g*', 'r*', 'c*', 'b*', 'm*']\n",
    "color_names = [\"yellow\", \"blue\", \"green\", \"red\", \"cyan\", \"black\", 'purple']\n",
    "counter = 0\n",
    "color_index = 0\n",
    "\n",
    "for coordinates in layer2_weights:\n",
    "    if (counter % 10) == 0 and counter != 0:\n",
    "        if color_index >= len(color_markers) - 1:\n",
    "            color_index = 0\n",
    "        else:\n",
    "            color_index += 1\n",
    "    plt.plot(coordinates[0], coordinates[1], color_markers[color_index])\n",
    "    plt.annotate(str(round(loss_values[counter][0], 2)), (coordinates[0], coordinates[1]), color=color_names[color_index])\n",
    "    counter += 1\n",
    "\n",
    "plt.title(\"Layer 2 Optimization\") \n",
    "plt.show()\n"
   ]
  },
  {
   "cell_type": "code",
   "execution_count": 26,
   "id": "957829cc-41a8-481d-99b6-880a16ffcfa4",
   "metadata": {
    "tags": []
   },
   "outputs": [
    {
     "data": {
      "image/png": "[encoded data removed]",
      "text/plain": [
       "<Figure size 640x480 with 1 Axes>"
      ]
     },
     "metadata": {},
     "output_type": "display_data"
    }
   ],
   "source": [
    "counter = 0\n",
    "color_index = 0\n",
    "\n",
    "for coordinates in model_weights:\n",
    "    if (counter % 10) == 0 and counter != 0:\n",
    "        if color_index >= len(color_markers) - 1:\n",
    "            color_index = 0\n",
    "        else:\n",
    "            color_index += 1\n",
    "    plt.plot(coordinates[0], coordinates[1], color_markers[color_index])\n",
    "    plt.annotate(str(round(loss_values[counter][0], 2)), (coordinates[0], coordinates[1]), color=color_names[color_index])\n",
    "    counter += 1\n",
    "\n",
    "plt.title(\"Whole Model's Weights Optimization\")\n",
    "plt.show()\n"
   ]
  }
 ],
 "metadata": {
  "kernelspec": {
   "display_name": "Python 3 (ipykernel)",
   "language": "python",
   "name": "python3"
  },
  "language_info": {
   "codemirror_mode": {
    "name": "ipython",
    "version": 3
   },
   "file_extension": ".py",
   "mimetype": "text/x-python",
   "name": "python",
   "nbconvert_exporter": "python",
   "pygments_lexer": "ipython3",
   "version": "3.11.5"
  }
 },
 "nbformat": 4,
 "nbformat_minor": 5
}
