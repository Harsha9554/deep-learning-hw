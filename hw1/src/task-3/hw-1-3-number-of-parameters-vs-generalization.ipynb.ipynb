{
 "cells": [
  {
   "cell_type": "code",
   "execution_count": 62,
   "id": "117a083e-edca-430d-83d0-b05463f7bb8e",
   "metadata": {
    "tags": []
   },
   "outputs": [],
   "source": [
    "import torch\n",
    "import torch.nn as nn\n",
    "import torch.nn.functional as F\n",
    "from torch.utils.data import DataLoader\n",
    "from torchvision import datasets, transforms\n",
    "\n",
    "import numpy as np\n",
    "import pandas as pd\n",
    "import matplotlib.pyplot as plt\n",
    "%matplotlib inline"
   ]
  },
  {
   "cell_type": "code",
   "execution_count": 63,
   "id": "95740060-c112-41c1-bebf-8d993695fc0e",
   "metadata": {
    "tags": []
   },
   "outputs": [],
   "source": [
    "transform = transforms.ToTensor()"
   ]
  },
  {
   "cell_type": "code",
   "execution_count": 64,
   "id": "8fe2c00b-d48f-4309-af8a-568df012f19c",
   "metadata": {
    "tags": []
   },
   "outputs": [],
   "source": [
    "train_data_set = datasets.MNIST(root='deep-learning/hw-1/dataset-3', train=True, download=True, transform=transform)\n",
    "test_data_set = datasets.MNIST(root='deep-learning/hw-1/dataset-3', train=False, download=True, transform=transform)"
   ]
  },
  {
   "cell_type": "code",
   "execution_count": 65,
   "id": "24050de1-dcf2-4934-8cd4-172e4ec43285",
   "metadata": {
    "tags": []
   },
   "outputs": [
    {
     "name": "stdout",
     "output_type": "stream",
     "text": [
      "60000\n",
      "Dataset MNIST\n",
      "    Number of datapoints: 60000\n",
      "    Root location: deep-learning/hw-1/dataset-3\n",
      "    Split: Train\n",
      "    StandardTransform\n",
      "Transform: ToTensor()\n",
      "\n",
      "10000\n",
      "Dataset MNIST\n",
      "    Number of datapoints: 10000\n",
      "    Root location: deep-learning/hw-1/dataset-3\n",
      "    Split: Test\n",
      "    StandardTransform\n",
      "Transform: ToTensor()\n"
     ]
    }
   ],
   "source": [
    "print(len(train_data_set))\n",
    "print(train_data_set)\n",
    "print()\n",
    "print(len(test_data_set))\n",
    "print(test_data_set)"
   ]
  },
  {
   "cell_type": "code",
   "execution_count": 66,
   "id": "be904eea-0078-4e0c-9610-07f3daf7e1d5",
   "metadata": {
    "tags": []
   },
   "outputs": [],
   "source": [
    "train_loader = DataLoader(train_data_set, batch_size=500, shuffle=True)\n",
    "test_loader = DataLoader(test_data_set, batch_size=100, shuffle=False)"
   ]
  },
  {
   "cell_type": "code",
   "execution_count": 67,
   "id": "ba6070bd-861a-464e-bfa6-1030f6288d7f",
   "metadata": {
    "tags": []
   },
   "outputs": [],
   "source": [
    "def count_parameters(model):\n",
    "    return sum(param.numel() for param in model.parameters() if param.requires_grad)"
   ]
  },
  {
   "cell_type": "markdown",
   "id": "7183e4d8-decf-4495-94e0-f13c3d2c65c7",
   "metadata": {},
   "source": [
    "# Model 1 - 1645 parameters"
   ]
  },
  {
   "cell_type": "code",
   "execution_count": 68,
   "id": "db759a94-67a9-43f6-aa4d-b489ed1fc551",
   "metadata": {
    "tags": []
   },
   "outputs": [],
   "source": [
    "class ModelOne(nn.Module):\n",
    "    def __init__(self, in_features=784, h1=2, h2=5, out_features=10):\n",
    "        super().__init__()\n",
    "        self.fc1 = nn.Linear(in_features, h1)\n",
    "        self.fc2 = nn.Linear(h1, h2)\n",
    "        self.out = nn.Linear(h2, out_features)\n",
    "        \n",
    "    def forward(self, x):\n",
    "        x = F.relu(self.fc1(x))\n",
    "        x = F.relu(self.fc2(x))\n",
    "        x = self.out(x)\n",
    "        return x"
   ]
  },
  {
   "cell_type": "code",
   "execution_count": 69,
   "id": "cfb630ab-70de-4338-8d67-b416fdb918e0",
   "metadata": {
    "tags": []
   },
   "outputs": [],
   "source": [
    "model_one = ModelOne()\n",
    "criterion_one = nn.CrossEntropyLoss()\n",
    "optimizer_one = torch.optim.Adam(model_one.parameters(), lr=0.001)"
   ]
  },
  {
   "cell_type": "code",
   "execution_count": 70,
   "id": "ee4e5bc7-14b7-4aa8-8dcb-d224c6991838",
   "metadata": {
    "tags": []
   },
   "outputs": [
    {
     "name": "stdout",
     "output_type": "stream",
     "text": [
      "ModelOne(\n",
      "  (fc1): Linear(in_features=784, out_features=2, bias=True)\n",
      "  (fc2): Linear(in_features=2, out_features=5, bias=True)\n",
      "  (out): Linear(in_features=5, out_features=10, bias=True)\n",
      ")\n",
      "1645\n"
     ]
    }
   ],
   "source": [
    "print(model_one)\n",
    "model_one_params = count_parameters(model_one)\n",
    "print(model_one_params)"
   ]
  },
  {
   "cell_type": "code",
   "execution_count": 71,
   "id": "29112feb-ef6a-4059-aeda-eb3bbfd26ceb",
   "metadata": {
    "tags": []
   },
   "outputs": [],
   "source": [
    "epochs = 30\n",
    "train_correct_model_one = []\n",
    "test_correct_model_one = []\n",
    "for i in range(epochs):\n",
    "    train_corr = 0\n",
    "    test_corr = 0\n",
    "\n",
    "    for b, (X_train, y_train) in enumerate(train_loader):\n",
    "        y_pred = model_one(X_train.view(500, -1))\n",
    "        loss = criterion_one(y_pred, y_train)\n",
    "\n",
    "        predicted = torch.max(y_pred.data, 1)[1]\n",
    "        batch_corr = (predicted == y_train).sum()\n",
    "        train_corr += batch_corr\n",
    "\n",
    "        optimizer_one.zero_grad()\n",
    "        loss.backward()\n",
    "        optimizer_one.step()\n",
    "        \n",
    "    train_losses_model_one = loss\n",
    "    train_correct_model_one.append(train_corr)\n",
    "\n",
    "    with torch.no_grad():\n",
    "        for b, (X_test, y_test) in enumerate(test_loader):\n",
    "            y_val = model_one(X_test.view(100, -1))\n",
    "            predicted = torch.max(y_val.data, 1)[1]\n",
    "            test_corr += (predicted == y_test).sum()\n",
    "\n",
    "    loss = criterion_one(y_val, y_test)\n",
    "    test_losses_model_one = loss\n",
    "    test_correct_model_one.append(test_corr)\n",
    "\n",
    "train_losses_model_one = train_losses_model_one.detach().numpy()"
   ]
  },
  {
   "cell_type": "code",
   "execution_count": 72,
   "id": "dccb2281-cecc-43f3-88c8-8e008da334cb",
   "metadata": {
    "tags": []
   },
   "outputs": [
    {
     "name": "stdout",
     "output_type": "stream",
     "text": [
      "tensor(56.5100)\n"
     ]
    }
   ],
   "source": [
    "for t in train_correct_model_one:\n",
    "    trn_accu_model_one = t / 600\n",
    "    \n",
    "print(trn_accu_model_one)"
   ]
  },
  {
   "cell_type": "code",
   "execution_count": 134,
   "id": "2a21de38-e294-4108-8597-645e6f7a3486",
   "metadata": {
    "tags": []
   },
   "outputs": [
    {
     "name": "stdout",
     "output_type": "stream",
     "text": [
      "tensor(56.5100)\n"
     ]
    }
   ],
   "source": [
    "for t in train_correct_model_one:\n",
    "    tst_accu_model_one = t / 600\n",
    "    \n",
    "print(tst_accu_model_two)"
   ]
  },
  {
   "cell_type": "markdown",
   "id": "e7e8f1a7-8c25-4e56-bd3a-8026124cf3ba",
   "metadata": {},
   "source": [
    "# Model 2 - 3240 parameters"
   ]
  },
  {
   "cell_type": "code",
   "execution_count": 73,
   "id": "db2c9540-768f-4d29-9963-970b2018fd46",
   "metadata": {
    "tags": []
   },
   "outputs": [],
   "source": [
    "class ModelTwo(nn.Module):\n",
    "    def __init__(self, in_features=784, h1=4, h2=6, out_features=10):\n",
    "        super().__init__()\n",
    "        self.fc1 = nn.Linear(in_features, h1)\n",
    "        self.fc2 = nn.Linear(h1, h2)\n",
    "        self.out = nn.Linear(h2, out_features)\n",
    "        \n",
    "    def forward(self, x):\n",
    "        x = F.relu(self.fc1(x))\n",
    "        x = F.relu(self.fc2(x))\n",
    "        x = self.out(x)\n",
    "        return x"
   ]
  },
  {
   "cell_type": "code",
   "execution_count": 74,
   "id": "ae0ca471-cad2-4c04-b3c0-ce4f8de9a96a",
   "metadata": {
    "tags": []
   },
   "outputs": [],
   "source": [
    "model_two = ModelTwo()\n",
    "criterion_two = nn.CrossEntropyLoss()\n",
    "optimizer_two = torch.optim.Adam(model_two.parameters(), lr=0.001)"
   ]
  },
  {
   "cell_type": "code",
   "execution_count": 75,
   "id": "4d722f67-792d-4d12-9b98-3839f15a908f",
   "metadata": {
    "tags": []
   },
   "outputs": [
    {
     "name": "stdout",
     "output_type": "stream",
     "text": [
      "ModelTwo(\n",
      "  (fc1): Linear(in_features=784, out_features=4, bias=True)\n",
      "  (fc2): Linear(in_features=4, out_features=6, bias=True)\n",
      "  (out): Linear(in_features=6, out_features=10, bias=True)\n",
      ")\n",
      "3240\n"
     ]
    }
   ],
   "source": [
    "print(model_two)\n",
    "model_two_params = count_parameters(model_two)\n",
    "print(model_two_params)"
   ]
  },
  {
   "cell_type": "code",
   "execution_count": 76,
   "id": "10ec026c-8864-464e-9a07-ea36b9e9eedd",
   "metadata": {
    "tags": []
   },
   "outputs": [],
   "source": [
    "epochs = 30\n",
    "train_correct_model_two = []\n",
    "test_correct_model_two = []\n",
    "\n",
    "for i in range(epochs):\n",
    "    train_corr = 0\n",
    "    test_corr = 0\n",
    "\n",
    "    for b, (X_train, y_train) in enumerate(train_loader):\n",
    "        y_pred = model_two(X_train.view(500, -1))\n",
    "        loss = criterion_two(y_pred, y_train)\n",
    "\n",
    "        predicted = torch.max(y_pred.data, 1)[1]\n",
    "        batch_corr = (predicted == y_train).sum()\n",
    "        train_corr += batch_corr\n",
    "\n",
    "        optimizer_two.zero_grad()\n",
    "        loss.backward()\n",
    "        optimizer_two.step()\n",
    "\n",
    "    train_losses_model_two = loss\n",
    "    train_correct_model_two.append(train_corr)\n",
    "\n",
    "    with torch.no_grad():\n",
    "        for b, (X_test, y_test) in enumerate(test_loader):\n",
    "            y_val = model_two(X_test.view(100, -1))\n",
    "            predicted = torch.max(y_val.data, 1)[1]\n",
    "            test_corr += (predicted == y_test).sum()\n",
    "\n",
    "    loss = criterion_two(y_val, y_test)\n",
    "    test_losses_model_two = loss\n",
    "    test_correct_model_two.append(test_corr)\n",
    "\n",
    "train_losses_model_two = train_losses_model_two.detach().numpy()"
   ]
  },
  {
   "cell_type": "code",
   "execution_count": 77,
   "id": "196b1524-f1c9-40d3-86f8-02e81727ab16",
   "metadata": {
    "tags": []
   },
   "outputs": [
    {
     "name": "stdout",
     "output_type": "stream",
     "text": [
      "tensor(87.2817)\n"
     ]
    }
   ],
   "source": [
    "for t in train_correct_model_two:\n",
    "    trn_accu_model_two = t / 600\n",
    "    \n",
    "print(trn_accu_model_two)"
   ]
  },
  {
   "cell_type": "code",
   "execution_count": 78,
   "id": "800f47c0-3d54-4fb2-af6b-2f4884a22c83",
   "metadata": {
    "tags": []
   },
   "outputs": [
    {
     "name": "stdout",
     "output_type": "stream",
     "text": [
      "tensor(87.3800)\n"
     ]
    }
   ],
   "source": [
    "for t in test_correct_model_two:\n",
    "    tst_accu_model_two = t / 100\n",
    "    \n",
    "print(tst_accu_model_two)"
   ]
  },
  {
   "cell_type": "markdown",
   "id": "b280f2da-bbdd-4cbb-8df5-20b7fa68abd3",
   "metadata": {},
   "source": [
    "# Model 3 - 8280 parameters"
   ]
  },
  {
   "cell_type": "code",
   "execution_count": 79,
   "id": "45eb584b-e080-4be1-bff0-594c8744d32f",
   "metadata": {
    "tags": []
   },
   "outputs": [],
   "source": [
    "class ModelThree(nn.Module):\n",
    "    def __init__(self, in_features=784, h1=10, h2=20, out_features=10):\n",
    "        super().__init__()\n",
    "        self.fc1 = nn.Linear(in_features, h1)\n",
    "        self.fc2 = nn.Linear(h1, h2)\n",
    "        self.out = nn.Linear(h2, out_features)\n",
    "        \n",
    "    def forward(self, x):\n",
    "        x = F.relu(self.fc1(x))\n",
    "        x = F.relu(self.fc2(x))\n",
    "        x = self.out(x)\n",
    "        return x"
   ]
  },
  {
   "cell_type": "code",
   "execution_count": 80,
   "id": "bc559f20-afaa-44f0-9e58-d6978e30af6c",
   "metadata": {
    "tags": []
   },
   "outputs": [],
   "source": [
    "model_three = ModelThree()\n",
    "criterion_three = nn.CrossEntropyLoss()\n",
    "optimizer_three = torch.optim.Adam(model_three.parameters(), lr=0.001)"
   ]
  },
  {
   "cell_type": "code",
   "execution_count": 81,
   "id": "6cec9214-a6ca-4026-8b86-0ab830e5aace",
   "metadata": {
    "tags": []
   },
   "outputs": [
    {
     "name": "stdout",
     "output_type": "stream",
     "text": [
      "ModelThree(\n",
      "  (fc1): Linear(in_features=784, out_features=10, bias=True)\n",
      "  (fc2): Linear(in_features=10, out_features=20, bias=True)\n",
      "  (out): Linear(in_features=20, out_features=10, bias=True)\n",
      ")\n",
      "8280\n"
     ]
    }
   ],
   "source": [
    "print(model_three)\n",
    "model_three_params = count_parameters(model_three)\n",
    "print(model_three_params)"
   ]
  },
  {
   "cell_type": "code",
   "execution_count": 82,
   "id": "364191ad-4353-4cee-8487-633ac644b804",
   "metadata": {
    "tags": []
   },
   "outputs": [],
   "source": [
    "epochs = 30\n",
    "train_correct_model_three = []\n",
    "test_correct_model_three = []\n",
    "\n",
    "for i in range(epochs):\n",
    "    train_corr = 0\n",
    "    test_corr = 0\n",
    "    \n",
    "    for b, (X_train, y_train) in enumerate(train_loader):\n",
    "        y_pred = model_three(X_train.view(500, -1))\n",
    "        loss = criterion_three(y_pred, y_train)\n",
    "\n",
    "        predicted = torch.max(y_pred.data, 1)[1]\n",
    "        batch_corr = (predicted == y_train).sum()\n",
    "        train_corr += batch_corr\n",
    "\n",
    "        optimizer_three.zero_grad()\n",
    "        loss.backward()\n",
    "        optimizer_three.step()\n",
    "\n",
    "    train_losses_model_three = loss\n",
    "    train_correct_model_three.append(train_corr)\n",
    "\n",
    "    with torch.no_grad():\n",
    "        for b, (X_test, y_test) in enumerate(test_loader):\n",
    "            y_val = model_three(X_test.view(100, -1))\n",
    "            predicted = torch.max(y_val.data, 1)[1]\n",
    "            test_corr += (predicted == y_test).sum()\n",
    "\n",
    "    loss = criterion_three(y_val, y_test)\n",
    "    test_losses_model_three = loss\n",
    "    test_correct_model_three.append(test_corr)\n",
    "\n",
    "train_losses_model_three = train_losses_model_three.detach().numpy()"
   ]
  },
  {
   "cell_type": "code",
   "execution_count": 83,
   "id": "927298da-07ae-45de-b7b4-f2f0094ad034",
   "metadata": {
    "tags": []
   },
   "outputs": [
    {
     "name": "stdout",
     "output_type": "stream",
     "text": [
      "tensor(94.5733)\n"
     ]
    }
   ],
   "source": [
    "for t in train_correct_model_three:\n",
    "    trn_accu_model_three = t / 600\n",
    "    \n",
    "print(trn_accu_model_three)"
   ]
  },
  {
   "cell_type": "code",
   "execution_count": 84,
   "id": "f8048c07-520a-47cb-a9be-518402088d93",
   "metadata": {
    "tags": []
   },
   "outputs": [
    {
     "name": "stdout",
     "output_type": "stream",
     "text": [
      "tensor(94.1000)\n"
     ]
    }
   ],
   "source": [
    "for t in test_correct_model_three:\n",
    "    tst_accu_model_three = t / 100\n",
    "    \n",
    "print(tst_accu_model_three)"
   ]
  },
  {
   "cell_type": "markdown",
   "id": "8226c103-6791-414b-92ca-0738aaefb661",
   "metadata": {},
   "source": [
    "# Model 4 - 16950 parameters"
   ]
  },
  {
   "cell_type": "code",
   "execution_count": 85,
   "id": "fdf6edac-4023-4793-92aa-d28cacd34775",
   "metadata": {
    "tags": []
   },
   "outputs": [],
   "source": [
    "class ModelFour(nn.Module):\n",
    "    def __init__(self, in_features=784, h1=20, h2=40, out_features=10):\n",
    "        super().__init__()\n",
    "        self.fc1 = nn.Linear(in_features, h1)\n",
    "        self.fc2 = nn.Linear(h1, h2)\n",
    "        self.out = nn.Linear(h2, out_features)\n",
    "        \n",
    "    def forward(self, x):\n",
    "        x = F.relu(self.fc1(x))\n",
    "        x = F.relu(self.fc2(x))\n",
    "        x = self.out(x)\n",
    "        return x"
   ]
  },
  {
   "cell_type": "code",
   "execution_count": 86,
   "id": "ecfb3059-b7f9-43f2-965a-f51773365713",
   "metadata": {
    "tags": []
   },
   "outputs": [],
   "source": [
    "model_four = ModelFour()\n",
    "criterion_four = nn.CrossEntropyLoss()\n",
    "optimizer_four = torch.optim.Adam(model_four.parameters(), lr=0.001)"
   ]
  },
  {
   "cell_type": "code",
   "execution_count": null,
   "id": "b41703e5-2391-4e16-aee6-710ca685d6ef",
   "metadata": {
    "tags": []
   },
   "outputs": [],
   "source": [
    "print(model_four)\n",
    "model_four_params = count_parameters(model_four)\n",
    "print(model_four_params)"
   ]
  },
  {
   "cell_type": "code",
   "execution_count": 88,
   "id": "532c83d2-af97-423c-9df8-7187b2c7c1a6",
   "metadata": {
    "tags": []
   },
   "outputs": [],
   "source": [
    "epochs = 30\n",
    "train_correct_model_four = []\n",
    "test_correct_model_four = []\n",
    "\n",
    "for i in range(epochs):\n",
    "    train_corr = 0\n",
    "    test_corr = 0\n",
    "\n",
    "    for b, (X_train, y_train) in enumerate(train_loader):\n",
    "        y_pred = model_four(X_train.view(500, -1))\n",
    "        loss = criterion_four(y_pred, y_train)\n",
    "\n",
    "        predicted = torch.max(y_pred.data, 1)[1]\n",
    "        batch_corr = (predicted == y_train).sum()\n",
    "        train_corr += batch_corr\n",
    "\n",
    "        optimizer_four.zero_grad()\n",
    "        loss.backward()\n",
    "        optimizer_four.step()\n",
    "\n",
    "    train_losses_model_four = loss\n",
    "    train_correct_model_four.append(train_corr)\n",
    "\n",
    "    with torch.no_grad():\n",
    "        for b, (X_test, y_test) in enumerate(test_loader):\n",
    "            y_val = model_four(X_test.view(100, -1))\n",
    "            predicted = torch.max(y_val.data, 1)[1]\n",
    "            test_corr += (predicted == y_test).sum()\n",
    "\n",
    "    loss = criterion_four(y_val, y_test)\n",
    "    test_losses_model_four = loss\n",
    "    test_correct_model_four.append(test_corr)\n",
    "\n",
    "train_losses_model_four = train_losses_model_four.detach().numpy()"
   ]
  },
  {
   "cell_type": "code",
   "execution_count": 89,
   "id": "be277715-cdcf-4533-9130-967159314b2e",
   "metadata": {
    "tags": []
   },
   "outputs": [
    {
     "name": "stdout",
     "output_type": "stream",
     "text": [
      "tensor(97.0867)\n"
     ]
    }
   ],
   "source": [
    "for t in train_correct_model_four:\n",
    "    trn_accu_model_four = t / 600\n",
    "\n",
    "print(trn_accu_model_four)"
   ]
  },
  {
   "cell_type": "code",
   "execution_count": 90,
   "id": "72b6401d-3605-4f87-ae2f-ae6a7914604e",
   "metadata": {
    "tags": []
   },
   "outputs": [
    {
     "name": "stdout",
     "output_type": "stream",
     "text": [
      "tensor(95.9000)\n"
     ]
    }
   ],
   "source": [
    "for t in test_correct_model_four:\n",
    "    tst_accu_model_four = t / 100\n",
    "\n",
    "print(tst_accu_model_four)"
   ]
  },
  {
   "cell_type": "markdown",
   "id": "91fe427a-3455-4a17-b429-b3ea2ff5ad58",
   "metadata": {},
   "source": [
    "# Model 5 - 44140 parameters"
   ]
  },
  {
   "cell_type": "code",
   "execution_count": 91,
   "id": "d9526332-5bba-43a4-b36b-9aeff3c18840",
   "metadata": {
    "tags": []
   },
   "outputs": [],
   "source": [
    "class ModelFive(nn.Module):\n",
    "    def __init__(self, in_features=784, h1=50, h2=80, out_features=10):\n",
    "        super().__init__()\n",
    "        self.fc1 = nn.Linear(in_features, h1)\n",
    "        self.fc2 = nn.Linear(h1, h2)\n",
    "        self.out = nn.Linear(h2, out_features)\n",
    "        \n",
    "    def forward(self, x):\n",
    "        x = F.relu(self.fc1(x))\n",
    "        x = F.relu(self.fc2(x))\n",
    "        x = self.out(x)\n",
    "        return x"
   ]
  },
  {
   "cell_type": "code",
   "execution_count": 92,
   "id": "6b887867-d620-4205-8f3b-fe8efbf039b3",
   "metadata": {
    "tags": []
   },
   "outputs": [],
   "source": [
    "model_five = ModelFive()\n",
    "criterion_five = nn.CrossEntropyLoss()\n",
    "optimizer_five = torch.optim.Adam(model_five.parameters(), lr=0.001)"
   ]
  },
  {
   "cell_type": "code",
   "execution_count": null,
   "id": "139da890-6053-4fcd-92bc-dad3c0f3cdaa",
   "metadata": {
    "tags": []
   },
   "outputs": [],
   "source": [
    "print(model_five)\n",
    "model_five_params = count_parameters(model_five)\n",
    "print(model_five_params)"
   ]
  },
  {
   "cell_type": "code",
   "execution_count": 94,
   "id": "eb5ec8be-09e5-4272-b52a-a8e596cc7b06",
   "metadata": {
    "tags": []
   },
   "outputs": [],
   "source": [
    "epochs = 30\n",
    "train_correct_model_five = []\n",
    "test_correct_model_five = []\n",
    "\n",
    "for i in range(epochs):\n",
    "    train_corr = 0\n",
    "    test_corr = 0\n",
    "\n",
    "    for b, (X_train, y_train) in enumerate(train_loader):\n",
    "        y_pred = model_five(X_train.view(500, -1))\n",
    "        loss = criterion_five(y_pred, y_train)\n",
    "\n",
    "        predicted = torch.max(y_pred.data, 1)[1]\n",
    "        batch_corr = (predicted == y_train).sum()\n",
    "        train_corr += batch_corr\n",
    "\n",
    "        optimizer_five.zero_grad()\n",
    "        loss.backward()\n",
    "        optimizer_five.step()\n",
    "\n",
    "    train_losses_model_five = loss\n",
    "    train_correct_model_five.append(train_corr)\n",
    "\n",
    "    with torch.no_grad():\n",
    "        for b, (X_test, y_test) in enumerate(test_loader):\n",
    "            y_val = model_five(X_test.view(100, -1))\n",
    "            predicted = torch.max(y_val.data, 1)[1]\n",
    "            test_corr += (predicted == y_test).sum()\n",
    "\n",
    "    loss = criterion_five(y_val, y_test)\n",
    "    test_losses_model_five = loss\n",
    "    test_correct_model_five.append(test_corr)\n",
    "\n",
    "train_losses_model_five = train_losses_model_five.detach().numpy()\n"
   ]
  },
  {
   "cell_type": "code",
   "execution_count": 95,
   "id": "b090c261-fc3d-4a6f-b20f-065f63e216b3",
   "metadata": {
    "tags": []
   },
   "outputs": [
    {
     "name": "stdout",
     "output_type": "stream",
     "text": [
      "tensor(99.2033)\n"
     ]
    }
   ],
   "source": [
    "for t in train_correct_model_five:\n",
    "    trn_accu_model_five = t / 600\n",
    "\n",
    "print(trn_accu_model_five)"
   ]
  },
  {
   "cell_type": "code",
   "execution_count": 96,
   "id": "5ac3cf37-1336-42e1-9caf-038b23123475",
   "metadata": {
    "tags": []
   },
   "outputs": [
    {
     "name": "stdout",
     "output_type": "stream",
     "text": [
      "tensor(97.3900)\n"
     ]
    }
   ],
   "source": [
    "for t in test_correct_model_five:\n",
    "    tst_accu_model_five = t / 100\n",
    "\n",
    "print(tst_accu_model_five)"
   ]
  },
  {
   "cell_type": "markdown",
   "id": "309906ef-91d8-40d3-a33d-b24709a85965",
   "metadata": {},
   "source": [
    "# Model 6 - 91830 parameters"
   ]
  },
  {
   "cell_type": "code",
   "execution_count": 97,
   "id": "ce7ffadb-fac9-4280-8544-917997c3babf",
   "metadata": {
    "tags": []
   },
   "outputs": [],
   "source": [
    "class ModelSix(nn.Module):\n",
    "    def __init__(self, in_features=784, h1=100, h2=120, out_features=10):\n",
    "        super().__init__()\n",
    "        self.fc1 = nn.Linear(in_features, h1)\n",
    "        self.fc2 = nn.Linear(h1, h2)\n",
    "        self.out = nn.Linear(h2, out_features)\n",
    "        \n",
    "    def forward(self, x):\n",
    "        x = F.relu(self.fc1(x))\n",
    "        x = F.relu(self.fc2(x))\n",
    "        x = self.out(x)\n",
    "        return x"
   ]
  },
  {
   "cell_type": "code",
   "execution_count": 98,
   "id": "42421ca0-bb54-4c39-9272-a41aec1ecc71",
   "metadata": {
    "tags": []
   },
   "outputs": [],
   "source": [
    "model_six = ModelSix()\n",
    "criterion_six = nn.CrossEntropyLoss()\n",
    "optimizer_six = torch.optim.Adam(model_six.parameters(), lr=0.001)"
   ]
  },
  {
   "cell_type": "code",
   "execution_count": null,
   "id": "c879493c-b22d-4236-8186-df7b1a522a12",
   "metadata": {
    "tags": []
   },
   "outputs": [],
   "source": [
    "print(model_six)\n",
    "model_six_params = count_parameters(model_six)\n",
    "print(model_six_params)"
   ]
  },
  {
   "cell_type": "code",
   "execution_count": 100,
   "id": "e55d0249-433f-4d82-833a-182ec484dbb5",
   "metadata": {
    "tags": []
   },
   "outputs": [],
   "source": [
    "epochs = 30\n",
    "train_correct_model_six = []\n",
    "test_correct_model_six = []\n",
    "\n",
    "for i in range(epochs):\n",
    "    train_corr = 0\n",
    "    test_corr = 0\n",
    "\n",
    "    for b, (X_train, y_train) in enumerate(train_loader):\n",
    "        y_pred = model_six(X_train.view(500, -1))\n",
    "        loss = criterion_six(y_pred, y_train)\n",
    "\n",
    "        predicted = torch.max(y_pred.data, 1)[1]\n",
    "        batch_corr = (predicted == y_train).sum()\n",
    "        train_corr += batch_corr\n",
    "\n",
    "        optimizer_six.zero_grad()\n",
    "        loss.backward()\n",
    "        optimizer_six.step()\n",
    "\n",
    "    train_losses_model_six = loss\n",
    "    train_correct_model_six.append(train_corr)\n",
    "\n",
    "    with torch.no_grad():\n",
    "        for b, (X_test, y_test) in enumerate(test_loader):\n",
    "            y_val = model_six(X_test.view(100, -1))\n",
    "            predicted = torch.max(y_val.data, 1)[1]\n",
    "            test_corr += (predicted == y_test).sum()\n",
    "\n",
    "    loss = criterion_six(y_val, y_test)\n",
    "    test_losses_model_six = loss\n",
    "    test_correct_model_six.append(test_corr)\n",
    "\n",
    "train_losses_model_six = train_losses_model_six.detach().numpy()\n"
   ]
  },
  {
   "cell_type": "code",
   "execution_count": 101,
   "id": "1c53938c-b0eb-47dc-8320-327df44c63f6",
   "metadata": {
    "tags": []
   },
   "outputs": [
    {
     "name": "stdout",
     "output_type": "stream",
     "text": [
      "tensor(99.9200)\n"
     ]
    }
   ],
   "source": [
    "for t in train_correct_model_six:\n",
    "    trn_accu_model_six = t / 600\n",
    "\n",
    "print(trn_accu_model_six)"
   ]
  },
  {
   "cell_type": "code",
   "execution_count": 102,
   "id": "797c890f-a8ba-47a3-998c-b632a03b571a",
   "metadata": {
    "tags": []
   },
   "outputs": [
    {
     "name": "stdout",
     "output_type": "stream",
     "text": [
      "tensor(97.8600)\n"
     ]
    }
   ],
   "source": [
    "for t in test_correct_model_six:\n",
    "    tst_accu_model_six = t / 100\n",
    "\n",
    "print(tst_accu_model_six)"
   ]
  },
  {
   "cell_type": "markdown",
   "id": "a79857eb-2af9-4393-836a-b9dcb43c048d",
   "metadata": {},
   "source": [
    "# Model 7 - 160410 parameters"
   ]
  },
  {
   "cell_type": "code",
   "execution_count": 103,
   "id": "5b91bb4f-5afb-4e08-9e24-01a2ba1c621f",
   "metadata": {
    "tags": []
   },
   "outputs": [],
   "source": [
    "class ModelSeven(nn.Module):\n",
    "    def __init__(self, in_features=784, h1=180, h2=100, out_features=10):\n",
    "        super().__init__()\n",
    "        self.fc1 = nn.Linear(in_features, h1)\n",
    "        self.fc2 = nn.Linear(h1, h2)\n",
    "        self.out = nn.Linear(h2, out_features)\n",
    "        \n",
    "    def forward(self, x):\n",
    "        x = F.relu(self.fc1(x))\n",
    "        x = F.relu(self.fc2(x))\n",
    "        x = self.out(x)\n",
    "        return x\n"
   ]
  },
  {
   "cell_type": "code",
   "execution_count": 104,
   "id": "d0eb4e5b-4529-42f9-a505-21c4558ae2d5",
   "metadata": {
    "tags": []
   },
   "outputs": [],
   "source": [
    "model_seven = ModelSeven()\n",
    "\n",
    "criterion_seven = nn.CrossEntropyLoss()\n",
    "optimizer_seven = torch.optim.Adam(model_seven.parameters(), lr=0.001)"
   ]
  },
  {
   "cell_type": "code",
   "execution_count": null,
   "id": "36a40933-266e-404a-8387-0d34da09a178",
   "metadata": {
    "tags": []
   },
   "outputs": [],
   "source": [
    "print(model_seven)\n",
    "model_seven_params = count_parameters(model_seven)\n",
    "print(model_seven_params)"
   ]
  },
  {
   "cell_type": "code",
   "execution_count": 106,
   "id": "b8170b3a-d4ff-432c-bc21-506a8689ddd8",
   "metadata": {
    "tags": []
   },
   "outputs": [],
   "source": [
    "epochs = 30\n",
    "train_correct_model_seven = []\n",
    "test_correct_model_seven = []\n",
    "\n",
    "for i in range(epochs):\n",
    "    train_corr = 0\n",
    "    test_corr = 0\n",
    "\n",
    "    for b, (X_train, y_train) in enumerate(train_loader):\n",
    "        y_pred = model_seven(X_train.view(500, -1))\n",
    "        loss = criterion_seven(y_pred, y_train)\n",
    "\n",
    "        predicted = torch.max(y_pred.data, 1)[1]\n",
    "        batch_corr = (predicted == y_train).sum()\n",
    "        train_corr += batch_corr\n",
    "\n",
    "        optimizer_seven.zero_grad()\n",
    "        loss.backward()\n",
    "        optimizer_seven.step()\n",
    "\n",
    "    train_losses_model_seven = loss\n",
    "    train_correct_model_seven.append(train_corr)\n",
    "\n",
    "    with torch.no_grad():\n",
    "        for b, (X_test, y_test) in enumerate(test_loader):\n",
    "            y_val = model_seven(X_test.view(100, -1))\n",
    "            predicted = torch.max(y_val.data, 1)[1]\n",
    "            test_corr += (predicted == y_test).sum()\n",
    "\n",
    "    loss = criterion_seven(y_val, y_test)\n",
    "    test_losses_model_seven = loss\n",
    "    test_correct_model_seven.append(test_corr)\n",
    "\n",
    "train_losses_model_seven = train_losses_model_seven.detach().numpy()"
   ]
  },
  {
   "cell_type": "code",
   "execution_count": 107,
   "id": "a027f7a3-d153-4f9f-b310-5be14f8c54ad",
   "metadata": {
    "tags": []
   },
   "outputs": [
    {
     "name": "stdout",
     "output_type": "stream",
     "text": [
      "tensor(99.9717)\n"
     ]
    }
   ],
   "source": [
    "for t in train_correct_model_seven:\n",
    "    trn_accu_model_seven = t / 600\n",
    "\n",
    "print(trn_accu_model_seven)"
   ]
  },
  {
   "cell_type": "code",
   "execution_count": 108,
   "id": "b9fb0193-e316-429b-a272-4138bccfe89d",
   "metadata": {
    "tags": []
   },
   "outputs": [
    {
     "name": "stdout",
     "output_type": "stream",
     "text": [
      "tensor(97.7800)\n"
     ]
    }
   ],
   "source": [
    "for t in test_correct_model_seven:\n",
    "    tst_accu_model_seven = t / 100\n",
    "\n",
    "print(tst_accu_model_seven)"
   ]
  },
  {
   "cell_type": "markdown",
   "id": "91425c55-f8c8-426c-9b60-0eccb46021c3",
   "metadata": {},
   "source": [
    "# Model 8 - 396210 parameters"
   ]
  },
  {
   "cell_type": "code",
   "execution_count": 109,
   "id": "d5868f9b-9319-4404-bab2-dbfd5aa7038f",
   "metadata": {
    "tags": []
   },
   "outputs": [],
   "source": [
    "class ModelEight(nn.Module):\n",
    "    def __init__(self, in_features=784, h1=400, h2=200, out_features=10):\n",
    "        super().__init__()\n",
    "        self.fc1 = nn.Linear(in_features, h1)\n",
    "        self.fc2 = nn.Linear(h1, h2)\n",
    "        self.out = nn.Linear(h2, out_features)\n",
    "        \n",
    "    def forward(self, x):\n",
    "        x = F.relu(self.fc1(x))\n",
    "        x = F.relu(self.fc2(x))\n",
    "        x = self.out(x)\n",
    "        return x"
   ]
  },
  {
   "cell_type": "code",
   "execution_count": 110,
   "id": "79b8bc51-af6b-487a-ad41-10be8208a4ff",
   "metadata": {
    "tags": []
   },
   "outputs": [],
   "source": [
    "model_eight = ModelEight()\n",
    "\n",
    "criterion_eight = nn.CrossEntropyLoss()\n",
    "optimizer_eight = torch.optim.Adam(model_eight.parameters(), lr=0.001)"
   ]
  },
  {
   "cell_type": "code",
   "execution_count": 129,
   "id": "d6e76ac9-26e8-4ca4-a43e-251fad743bd1",
   "metadata": {
    "tags": []
   },
   "outputs": [
    {
     "name": "stdout",
     "output_type": "stream",
     "text": [
      "ModelEight(\n",
      "  (fc1): Linear(in_features=784, out_features=400, bias=True)\n",
      "  (fc2): Linear(in_features=400, out_features=200, bias=True)\n",
      "  (out): Linear(in_features=200, out_features=10, bias=True)\n",
      ")\n",
      "654310\n"
     ]
    }
   ],
   "source": [
    "print(model_eight)\n",
    "model_eight_params = count_parameters(model_eight)\n",
    "print(model_seven_params)"
   ]
  },
  {
   "cell_type": "code",
   "execution_count": 112,
   "id": "8a0eb238-774c-470b-bbd1-d796069c2e8c",
   "metadata": {
    "tags": []
   },
   "outputs": [],
   "source": [
    "epochs = 30\n",
    "train_correct_model_eight = []\n",
    "test_correct_model_eight = []\n",
    "\n",
    "for i in range(epochs):\n",
    "    train_corr = 0\n",
    "    test_corr = 0\n",
    "\n",
    "    for b, (X_train, y_train) in enumerate(train_loader):\n",
    "        y_pred = model_eight(X_train.view(500, -1))\n",
    "        loss = criterion_eight(y_pred, y_train)\n",
    "\n",
    "        predicted = torch.max(y_pred.data, 1)[1]\n",
    "        batch_corr = (predicted == y_train).sum()\n",
    "        train_corr += batch_corr\n",
    "\n",
    "        optimizer_eight.zero_grad()\n",
    "        loss.backward()\n",
    "        optimizer_eight.step()\n",
    "\n",
    "    train_losses_model_eight = loss\n",
    "    train_correct_model_eight.append(train_corr)\n",
    "\n",
    "    with torch.no_grad():\n",
    "        for b, (X_test, y_test) in enumerate(test_loader):\n",
    "            y_val = model_eight(X_test.view(100, -1))\n",
    "            predicted = torch.max(y_val.data, 1)[1]\n",
    "            test_corr += (predicted == y_test).sum()\n",
    "\n",
    "    loss = criterion_eight(y_val, y_test)\n",
    "    test_losses_model_eight = loss\n",
    "    test_correct_model_eight.append(test_corr)\n",
    "\n",
    "train_losses_model_eight = train_losses_model_eight.detach().numpy()"
   ]
  },
  {
   "cell_type": "code",
   "execution_count": 113,
   "id": "7c64e63f-967e-4164-9ccc-dc5e60d5067e",
   "metadata": {
    "tags": []
   },
   "outputs": [
    {
     "name": "stdout",
     "output_type": "stream",
     "text": [
      "tensor(100.)\n"
     ]
    }
   ],
   "source": [
    "for t in train_correct_model_eight:\n",
    "    trn_accu_model_eight = t / 600\n",
    "\n",
    "print(trn_accu_model_eight)"
   ]
  },
  {
   "cell_type": "code",
   "execution_count": 114,
   "id": "f90ac40a-f592-4a7d-a4ef-97d7f13057da",
   "metadata": {
    "tags": []
   },
   "outputs": [
    {
     "name": "stdout",
     "output_type": "stream",
     "text": [
      "tensor(98.2000)\n"
     ]
    }
   ],
   "source": [
    "for t in test_correct_model_eight:\n",
    "    tst_accu_model_eight = t / 100\n",
    "\n",
    "print(tst_accu_model_eight)"
   ]
  },
  {
   "cell_type": "markdown",
   "id": "cea100b7-910c-4236-bb2e-7c37ccecc930",
   "metadata": {},
   "source": [
    "# Model 9 - 654310 parameters"
   ]
  },
  {
   "cell_type": "code",
   "execution_count": 115,
   "id": "9953caa4-c9b4-4262-ad52-f99eeaf1b486",
   "metadata": {
    "tags": []
   },
   "outputs": [],
   "source": [
    "class ModelNine(nn.Module):\n",
    "    def __init__(self, in_features=784, h1=600, h2=300, out_features=10):\n",
    "        super().__init__()\n",
    "        self.fc1 = nn.Linear(in_features, h1)\n",
    "        self.fc2 = nn.Linear(h1, h2)\n",
    "        self.out = nn.Linear(h2, out_features)\n",
    "        \n",
    "    def forward(self, x):\n",
    "        x = F.relu(self.fc1(x))\n",
    "        x = F.relu(self.fc2(x))\n",
    "        x = self.out(x)\n",
    "        return x"
   ]
  },
  {
   "cell_type": "code",
   "execution_count": 116,
   "id": "e51bc617-303d-49a0-a078-00ea5789cdc2",
   "metadata": {
    "tags": []
   },
   "outputs": [],
   "source": [
    "model_nine = ModelNine()\n",
    "\n",
    "criterion_nine = nn.CrossEntropyLoss()\n",
    "optimizer_nine = torch.optim.Adam(model_nine.parameters(), lr=0.001)"
   ]
  },
  {
   "cell_type": "code",
   "execution_count": 128,
   "id": "7b735fee-e5da-4983-9439-4119b1c27156",
   "metadata": {
    "tags": []
   },
   "outputs": [
    {
     "name": "stdout",
     "output_type": "stream",
     "text": [
      "ModelNine(\n",
      "  (fc1): Linear(in_features=784, out_features=600, bias=True)\n",
      "  (fc2): Linear(in_features=600, out_features=300, bias=True)\n",
      "  (out): Linear(in_features=300, out_features=10, bias=True)\n",
      ")\n",
      "654310\n"
     ]
    }
   ],
   "source": [
    "print(model_nine)\n",
    "model_nine_params = count_parameters(model_nine)\n",
    "print(model_nine_params)"
   ]
  },
  {
   "cell_type": "code",
   "execution_count": 118,
   "id": "97f613cf-eaf6-4675-b30a-3f7e1e924a88",
   "metadata": {
    "tags": []
   },
   "outputs": [],
   "source": [
    "epochs = 30\n",
    "train_correct_model_nine = []\n",
    "test_correct_model_nine = []\n",
    "\n",
    "for i in range(epochs):\n",
    "    train_corr = 0\n",
    "    test_corr = 0\n",
    "\n",
    "    for b, (X_train, y_train) in enumerate(train_loader):\n",
    "        y_pred = model_nine(X_train.view(500, -1))\n",
    "        loss = criterion_nine(y_pred, y_train)\n",
    "\n",
    "        predicted = torch.max(y_pred.data, 1)[1]\n",
    "        batch_corr = (predicted == y_train).sum()\n",
    "        train_corr += batch_corr\n",
    "\n",
    "        optimizer_nine.zero_grad()\n",
    "        loss.backward()\n",
    "        optimizer_nine.step()\n",
    "\n",
    "    train_losses_model_nine = loss\n",
    "    train_correct_model_nine.append(train_corr)\n",
    "\n",
    "    with torch.no_grad():\n",
    "        for b, (X_test, y_test) in enumerate(test_loader):\n",
    "            y_val = model_nine(X_test.view(100, -1))\n",
    "            predicted = torch.max(y_val.data, 1)[1]\n",
    "            test_corr += (predicted == y_test).sum()\n",
    "\n",
    "    loss = criterion_nine(y_val, y_test)\n",
    "    test_losses_model_nine = loss\n",
    "    test_correct_model_nine.append(test_corr)\n",
    "\n",
    "train_losses_model_nine = train_losses_model_nine.detach().numpy()"
   ]
  },
  {
   "cell_type": "code",
   "execution_count": 119,
   "id": "4926c6db-6257-407d-a33b-71b05e35277b",
   "metadata": {
    "tags": []
   },
   "outputs": [
    {
     "name": "stdout",
     "output_type": "stream",
     "text": [
      "tensor(100.)\n"
     ]
    }
   ],
   "source": [
    "for t in train_correct_model_nine:\n",
    "    trn_accu_model_nine = t / 600\n",
    "\n",
    "print(trn_accu_model_nine)"
   ]
  },
  {
   "cell_type": "code",
   "execution_count": 120,
   "id": "264aff47-e319-4a60-8327-38cf056254aa",
   "metadata": {
    "tags": []
   },
   "outputs": [
    {
     "name": "stdout",
     "output_type": "stream",
     "text": [
      "tensor(98.3200)\n"
     ]
    }
   ],
   "source": [
    "for t in test_correct_model_nine:\n",
    "    tst_accu_model_nine = t / 100\n",
    "\n",
    "print(tst_accu_model_nine)"
   ]
  },
  {
   "cell_type": "markdown",
   "id": "8b7cc844-80e5-4e47-bda1-40fa12c67ed7",
   "metadata": {},
   "source": [
    "# Model 10 - 952410 parameters"
   ]
  },
  {
   "cell_type": "code",
   "execution_count": 121,
   "id": "ce677d50-d89c-4277-8b48-9f45cbe5cc47",
   "metadata": {
    "tags": []
   },
   "outputs": [],
   "source": [
    "class ModelTen(nn.Module):\n",
    "    def __init__(self, in_features=784, h1=800, h2=400, out_features=10):\n",
    "        super().__init__()\n",
    "        self.fc1 = nn.Linear(in_features, h1)\n",
    "        self.fc2 = nn.Linear(h1, h2)\n",
    "        self.out = nn.Linear(h2, out_features)\n",
    "        \n",
    "    def forward(self, x):\n",
    "        x = F.relu(self.fc1(x))\n",
    "        x = F.relu(self.fc2(x))\n",
    "        x = self.out(x)\n",
    "        return x"
   ]
  },
  {
   "cell_type": "code",
   "execution_count": 122,
   "id": "a3d5a65c-aad5-4f67-b721-8e8385a10cd3",
   "metadata": {
    "tags": []
   },
   "outputs": [],
   "source": [
    "model_ten = ModelTen()\n",
    "\n",
    "criterion_model_ten = nn.CrossEntropyLoss()\n",
    "optimizer_model_ten = torch.optim.Adam(model_ten.parameters(), lr=0.001)"
   ]
  },
  {
   "cell_type": "code",
   "execution_count": null,
   "id": "ae1b7c3d-186d-48fb-b390-e21fd6e28be3",
   "metadata": {},
   "outputs": [],
   "source": [
    "print(model_ten)\n",
    "model_ten_params = count_parameters(model_ten)\n",
    "print(model_ten_params)"
   ]
  },
  {
   "cell_type": "code",
   "execution_count": 124,
   "id": "c78ccb36-cd01-424b-bfea-bfa8445bce95",
   "metadata": {
    "tags": []
   },
   "outputs": [],
   "source": [
    "epochs = 30\n",
    "train_correct_model_ten = []\n",
    "test_correct_model_ten = []\n",
    "\n",
    "for epoch in range(epochs):\n",
    "    train_corr = 0\n",
    "    test_corr = 0\n",
    "\n",
    "    for b, (X_train, y_train) in enumerate(train_loader):\n",
    "        y_pred = model_ten(X_train.view(500, -1))\n",
    "        loss = criterion_model_ten(y_pred, y_train)\n",
    "\n",
    "        predicted = torch.max(y_pred.data, 1)[1]\n",
    "        batch_corr = (predicted == y_train).sum()\n",
    "        train_corr += batch_corr\n",
    "\n",
    "        optimizer_model_ten.zero_grad()\n",
    "        loss.backward()\n",
    "        optimizer_model_ten.step()\n",
    "        \n",
    "    train_losses_model_ten = loss\n",
    "    train_correct_model_ten.append(train_corr)\n",
    "        \n",
    "    with torch.no_grad():\n",
    "        for b, (X_test, y_test) in enumerate(test_loader):\n",
    "            y_val = model_ten(X_test.view(100, -1))\n",
    "            predicted = torch.max(y_val.data, 1)[1]\n",
    "            test_corr += (predicted == y_test).sum()\n",
    "    \n",
    "    loss = criterion_model_ten(y_val, y_test)\n",
    "    test_losses_model_ten = loss\n",
    "    test_correct_model_ten.append(test_corr)\n",
    "        \n",
    "train_losses_model_ten = train_losses_model_ten.detach().numpy()"
   ]
  },
  {
   "cell_type": "code",
   "execution_count": 125,
   "id": "18fdcc60-7a92-4f55-9102-a7051f0b68aa",
   "metadata": {
    "tags": []
   },
   "outputs": [
    {
     "name": "stdout",
     "output_type": "stream",
     "text": [
      "tensor(99.9600)\n"
     ]
    }
   ],
   "source": [
    "for t in train_correct_model_ten:\n",
    "    trn_accu_model_ten = t / 600\n",
    "    \n",
    "print(trn_accu_model_ten)"
   ]
  },
  {
   "cell_type": "code",
   "execution_count": 126,
   "id": "31901ff3-010d-4096-95d4-9d14fcf884d5",
   "metadata": {
    "tags": []
   },
   "outputs": [
    {
     "name": "stdout",
     "output_type": "stream",
     "text": [
      "tensor(98.2800)\n"
     ]
    }
   ],
   "source": [
    "for t in test_correct_model_ten:\n",
    "    tst_accu_model_ten = t / 100\n",
    "    \n",
    "print(tst_accu_model_ten)"
   ]
  },
  {
   "cell_type": "code",
   "execution_count": 139,
   "id": "fdf66cae-17c7-4915-8911-5b400082efa8",
   "metadata": {
    "tags": []
   },
   "outputs": [
    {
     "data": {
      "image/png": "[encoded data removed]",
      "text/plain": [
       "<Figure size 640x480 with 1 Axes>"
      ]
     },
     "metadata": {},
     "output_type": "display_data"
    }
   ],
   "source": [
    "#Training Loss\n",
    "plt.scatter(model_one_params, train_losses_model_one,c='b',label='Train')\n",
    "plt.scatter(model_two_params, train_losses_model_two,c='b')\n",
    "plt.scatter(model_three_params, train_losses_model_three,c='b')\n",
    "plt.scatter(model_four_params, train_losses_model_four,c='b')\n",
    "plt.scatter(model_five_params, train_losses_model_five,c='b')\n",
    "plt.scatter(model_six_params, train_losses_model_six,c='b')\n",
    "plt.scatter(model_seven_params, train_losses_model_seven,c='b')\n",
    "plt.scatter(model_eight_params, train_losses_model_eight,c='b')\n",
    "plt.scatter(model_nine_params, train_losses_model_nine,c='b')\n",
    "plt.scatter(model_ten_params, train_losses_model_ten,c='b')\n",
    "\n",
    "#Testing Loss\n",
    "\n",
    "plt.scatter(model_one_params, test_losses_model_one,c='r',label='Test')\n",
    "plt.scatter(model_two_params, test_losses_model_two,c='r')\n",
    "plt.scatter(model_three_params, test_losses_model_three,c='r')\n",
    "plt.scatter(model_four_params, test_losses_model_four,c='r')\n",
    "plt.scatter(model_five_params, test_losses_model_five,c='r')\n",
    "plt.scatter(model_six_params, test_losses_model_six,c='r')\n",
    "plt.scatter(model_seven_params, test_losses_model_seven,c='r')\n",
    "plt.scatter(model_eight_params, test_losses_model_eight,c='r')\n",
    "plt.scatter(model_nine_params, test_losses_model_nine,c='r')\n",
    "plt.scatter(model_ten_params, test_losses_model_ten,c='r')\n",
    "\n",
    "plt.title(\"Loss of Models\")\n",
    "plt.xlabel(\"Number of Parameters\")\n",
    "plt.ylabel(\"Loss\")\n",
    "plt.legend(loc=\"upper right\")\n",
    "plt.show()"
   ]
  },
  {
   "cell_type": "code",
   "execution_count": 135,
   "id": "8ee99ac4-9e5c-4878-b8eb-90501ede5055",
   "metadata": {
    "jupyter": {
     "source_hidden": true
    },
    "tags": []
   },
   "outputs": [
    {
     "data": {
      "image/png": "[encoded data removed]",
      "text/plain": [
       "<Figure size 640x480 with 1 Axes>"
      ]
     },
     "metadata": {},
     "output_type": "display_data"
    }
   ],
   "source": [
    "#Training Accuracy\n",
    "plt.scatter(model_one_params, trn_accu_model_one,c='b',label='Train')\n",
    "plt.scatter(model_two_params, trn_accu_model_two,c='b')\n",
    "plt.scatter(model_three_params, trn_accu_model_three,c='b')\n",
    "plt.scatter(model_four_params, trn_accu_model_four,c='b')\n",
    "plt.scatter(model_five_params, trn_accu_model_five,c='b')\n",
    "plt.scatter(model_six_params, trn_accu_model_six,c='b')\n",
    "plt.scatter(model_seven_params, trn_accu_model_seven,c='b')\n",
    "plt.scatter(model_eight_params, trn_accu_model_eight,c='b')\n",
    "plt.scatter(model_nine_params, trn_accu_model_nine,c='b')\n",
    "plt.scatter(model_ten_params, trn_accu_model_ten,c='b')\n",
    "\n",
    "#Testing Accuracy\n",
    "\n",
    "plt.scatter(model_one_params, tst_accu_model_one,c='r',label='Test')\n",
    "plt.scatter(model_two_params, tst_accu_model_two,c='r')\n",
    "plt.scatter(model_three_params, tst_accu_model_three,c='r')\n",
    "plt.scatter(model_four_params, tst_accu_model_four,c='r')\n",
    "plt.scatter(model_five_params, tst_accu_model_five,c='r')\n",
    "plt.scatter(model_six_params, tst_accu_model_six,c='r')\n",
    "plt.scatter(model_seven_params, tst_accu_model_seven,c='r')\n",
    "plt.scatter(model_eight_params, tst_accu_model_eight,c='r')\n",
    "plt.scatter(model_nine_params, tst_accu_model_nine,c='r')\n",
    "plt.scatter(model_ten_params, tst_accu_model_ten,c='r')\n",
    "\n",
    "plt.title(\"Models Accuracy\")\n",
    "plt.xlabel(\"Number of Parameters\")\n",
    "plt.ylabel(\"Accuracy\")\n",
    "plt.legend(loc=\"upper right\")\n",
    "plt.show()"
   ]
  }
 ],
 "metadata": {
  "kernelspec": {
   "display_name": "Python 3 (ipykernel)",
   "language": "python",
   "name": "python3"
  },
  "language_info": {
   "codemirror_mode": {
    "name": "ipython",
    "version": 3
   },
   "file_extension": ".py",
   "mimetype": "text/x-python",
   "name": "python",
   "nbconvert_exporter": "python",
   "pygments_lexer": "ipython3",
   "version": "3.11.5"
  }
 },
 "nbformat": 4,
 "nbformat_minor": 5
}
